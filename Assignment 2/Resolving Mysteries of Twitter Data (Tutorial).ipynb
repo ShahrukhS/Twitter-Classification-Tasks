{
 "cells": [
  {
   "cell_type": "markdown",
   "metadata": {},
   "source": [
    "# Resolving Mysteries of Twitter Data"
   ]
  },
  {
   "cell_type": "markdown",
   "metadata": {},
   "source": [
    "#### define a task below from {sentiment, hate, emotion} "
   ]
  },
  {
   "cell_type": "code",
   "execution_count": 1,
   "metadata": {},
   "outputs": [],
   "source": [
    "task = 'sentiment'"
   ]
  },
  {
   "cell_type": "code",
   "execution_count": 2,
   "metadata": {},
   "outputs": [],
   "source": [
    "import pandas as pd\n",
    "import numpy as np\n",
    "import os\n",
    "import matplotlib.pyplot as plt\n",
    "import seaborn as sns\n",
    "\n",
    "dataset_path = f'datasets/{task}'"
   ]
  },
  {
   "cell_type": "code",
   "execution_count": 3,
   "metadata": {},
   "outputs": [],
   "source": [
    "def data_loader(file_name, labelscheck):\n",
    "    if labelscheck:\n",
    "        data_list = open(f'{dataset_path}/{file_name}', 'r').read().split(\"\\n\")\n",
    "    else:\n",
    "        data_list = open(f'{dataset_path}/{file_name}', 'r', encoding=\"utf-8\").read().split(\"\\n\")\n",
    "    return data_list"
   ]
  },
  {
   "cell_type": "code",
   "execution_count": 4,
   "metadata": {},
   "outputs": [
    {
     "name": "stdout",
     "output_type": "stream",
     "text": [
      "['mapping.txt', 'test_labels.txt', 'test_text.txt', 'train_labels.txt', 'train_text.txt', 'val_labels.txt', 'val_text.txt']\n"
     ]
    }
   ],
   "source": [
    "print(os.listdir(dataset_path))"
   ]
  },
  {
   "cell_type": "markdown",
   "metadata": {},
   "source": [
    "#### Loading and inspecting training data"
   ]
  },
  {
   "cell_type": "code",
   "execution_count": 5,
   "metadata": {},
   "outputs": [],
   "source": [
    "train = pd.DataFrame({'text':data_loader('train_text.txt', False),'labels': data_loader('train_labels.txt', True)}, dtype='string')"
   ]
  },
  {
   "cell_type": "code",
   "execution_count": 6,
   "metadata": {},
   "outputs": [
    {
     "data": {
      "text/html": [
       "<div>\n",
       "<style scoped>\n",
       "    .dataframe tbody tr th:only-of-type {\n",
       "        vertical-align: middle;\n",
       "    }\n",
       "\n",
       "    .dataframe tbody tr th {\n",
       "        vertical-align: top;\n",
       "    }\n",
       "\n",
       "    .dataframe thead th {\n",
       "        text-align: right;\n",
       "    }\n",
       "</style>\n",
       "<table border=\"1\" class=\"dataframe\">\n",
       "  <thead>\n",
       "    <tr style=\"text-align: right;\">\n",
       "      <th></th>\n",
       "      <th>text</th>\n",
       "      <th>labels</th>\n",
       "    </tr>\n",
       "  </thead>\n",
       "  <tbody>\n",
       "    <tr>\n",
       "      <th>0</th>\n",
       "      <td>\"QT @user In the original draft of the 7th boo...</td>\n",
       "      <td>2</td>\n",
       "    </tr>\n",
       "    <tr>\n",
       "      <th>1</th>\n",
       "      <td>\"Ben Smith / Smith (concussion) remains out of...</td>\n",
       "      <td>1</td>\n",
       "    </tr>\n",
       "    <tr>\n",
       "      <th>2</th>\n",
       "      <td>Sorry bout the stream last night I crashed out...</td>\n",
       "      <td>1</td>\n",
       "    </tr>\n",
       "    <tr>\n",
       "      <th>3</th>\n",
       "      <td>Chase Headley's RBI double in the 8th inning o...</td>\n",
       "      <td>1</td>\n",
       "    </tr>\n",
       "    <tr>\n",
       "      <th>4</th>\n",
       "      <td>@user Alciato: Bee will invest 150 million in ...</td>\n",
       "      <td>2</td>\n",
       "    </tr>\n",
       "  </tbody>\n",
       "</table>\n",
       "</div>"
      ],
      "text/plain": [
       "                                                text labels\n",
       "0  \"QT @user In the original draft of the 7th boo...      2\n",
       "1  \"Ben Smith / Smith (concussion) remains out of...      1\n",
       "2  Sorry bout the stream last night I crashed out...      1\n",
       "3  Chase Headley's RBI double in the 8th inning o...      1\n",
       "4  @user Alciato: Bee will invest 150 million in ...      2"
      ]
     },
     "execution_count": 6,
     "metadata": {},
     "output_type": "execute_result"
    }
   ],
   "source": [
    "train.head()"
   ]
  },
  {
   "cell_type": "code",
   "execution_count": 7,
   "metadata": {},
   "outputs": [
    {
     "data": {
      "text/plain": [
       "(45616, 2)"
      ]
     },
     "execution_count": 7,
     "metadata": {},
     "output_type": "execute_result"
    }
   ],
   "source": [
    "train.shape"
   ]
  },
  {
   "cell_type": "code",
   "execution_count": 8,
   "metadata": {},
   "outputs": [
    {
     "name": "stdout",
     "output_type": "stream",
     "text": [
      "<class 'pandas.core.frame.DataFrame'>\n",
      "RangeIndex: 45616 entries, 0 to 45615\n",
      "Data columns (total 2 columns):\n",
      " #   Column  Non-Null Count  Dtype \n",
      "---  ------  --------------  ----- \n",
      " 0   text    45616 non-null  string\n",
      " 1   labels  45616 non-null  string\n",
      "dtypes: string(2)\n",
      "memory usage: 712.9 KB\n"
     ]
    }
   ],
   "source": [
    "train.info()"
   ]
  },
  {
   "cell_type": "code",
   "execution_count": 9,
   "metadata": {},
   "outputs": [
    {
     "data": {
      "text/plain": [
       "<bound method NDFrame.describe of                                                     text labels\n",
       "0      \"QT @user In the original draft of the 7th boo...      2\n",
       "1      \"Ben Smith / Smith (concussion) remains out of...      1\n",
       "2      Sorry bout the stream last night I crashed out...      1\n",
       "3      Chase Headley's RBI double in the 8th inning o...      1\n",
       "4      @user Alciato: Bee will invest 150 million in ...      2\n",
       "...                                                  ...    ...\n",
       "45611  9 September has arrived, which means Apple's n...      2\n",
       "45612  Leeds 1-1 Sheff Wed. Giuseppe Bellusci securin...      2\n",
       "45613  @user no I'm in hilton head till the 8th lol g...      1\n",
       "45614  WASHINGTON (Reuters) - U.S. Vice President Joe...      1\n",
       "45615                                                          \n",
       "\n",
       "[45616 rows x 2 columns]>"
      ]
     },
     "execution_count": 9,
     "metadata": {},
     "output_type": "execute_result"
    }
   ],
   "source": [
    "train.describe"
   ]
  },
  {
   "cell_type": "code",
   "execution_count": 10,
   "metadata": {},
   "outputs": [
    {
     "data": {
      "text/plain": [
       "text      0\n",
       "labels    0\n",
       "dtype: int64"
      ]
     },
     "execution_count": 10,
     "metadata": {},
     "output_type": "execute_result"
    }
   ],
   "source": [
    "train.isnull().sum()"
   ]
  },
  {
   "cell_type": "markdown",
   "metadata": {},
   "source": [
    "#### Empty Strings Found\n",
    "it seems like there is a null entry (empty string to be precise) at 45615 index (to what we've found so far)\n",
    "but since it's an empty string rather than NaN, info() or isnull() couldn't pick them."
   ]
  },
  {
   "cell_type": "code",
   "execution_count": 11,
   "metadata": {},
   "outputs": [
    {
     "name": "stdout",
     "output_type": "stream",
     "text": [
      "Int64Index([45615], dtype='int64')\n",
      "Int64Index([45615], dtype='int64')\n"
     ]
    }
   ],
   "source": [
    "print(train[train['labels'] == ''].index)\n",
    "print(train[train['text'] == ''].index)"
   ]
  },
  {
   "cell_type": "code",
   "execution_count": 12,
   "metadata": {},
   "outputs": [],
   "source": [
    "train.replace(\"\", np.nan, inplace=True)"
   ]
  },
  {
   "cell_type": "code",
   "execution_count": 13,
   "metadata": {},
   "outputs": [],
   "source": [
    "train.dropna(subset=['labels', 'text'], inplace=True)"
   ]
  },
  {
   "cell_type": "code",
   "execution_count": 14,
   "metadata": {},
   "outputs": [
    {
     "data": {
      "text/plain": [
       "text      string\n",
       "labels    string\n",
       "dtype: object"
      ]
     },
     "execution_count": 14,
     "metadata": {},
     "output_type": "execute_result"
    }
   ],
   "source": [
    "train.dtypes"
   ]
  },
  {
   "cell_type": "code",
   "execution_count": 15,
   "metadata": {},
   "outputs": [
    {
     "data": {
      "text/html": [
       "<div>\n",
       "<style scoped>\n",
       "    .dataframe tbody tr th:only-of-type {\n",
       "        vertical-align: middle;\n",
       "    }\n",
       "\n",
       "    .dataframe tbody tr th {\n",
       "        vertical-align: top;\n",
       "    }\n",
       "\n",
       "    .dataframe thead th {\n",
       "        text-align: right;\n",
       "    }\n",
       "</style>\n",
       "<table border=\"1\" class=\"dataframe\">\n",
       "  <thead>\n",
       "    <tr style=\"text-align: right;\">\n",
       "      <th></th>\n",
       "      <th>text</th>\n",
       "      <th>labels</th>\n",
       "    </tr>\n",
       "  </thead>\n",
       "  <tbody>\n",
       "    <tr>\n",
       "      <th>45610</th>\n",
       "      <td>@user \\\"\"So amazing to have the beautiful Lady...</td>\n",
       "      <td>2</td>\n",
       "    </tr>\n",
       "    <tr>\n",
       "      <th>45611</th>\n",
       "      <td>9 September has arrived, which means Apple's n...</td>\n",
       "      <td>2</td>\n",
       "    </tr>\n",
       "    <tr>\n",
       "      <th>45612</th>\n",
       "      <td>Leeds 1-1 Sheff Wed. Giuseppe Bellusci securin...</td>\n",
       "      <td>2</td>\n",
       "    </tr>\n",
       "    <tr>\n",
       "      <th>45613</th>\n",
       "      <td>@user no I'm in hilton head till the 8th lol g...</td>\n",
       "      <td>1</td>\n",
       "    </tr>\n",
       "    <tr>\n",
       "      <th>45614</th>\n",
       "      <td>WASHINGTON (Reuters) - U.S. Vice President Joe...</td>\n",
       "      <td>1</td>\n",
       "    </tr>\n",
       "  </tbody>\n",
       "</table>\n",
       "</div>"
      ],
      "text/plain": [
       "                                                    text labels\n",
       "45610  @user \\\"\"So amazing to have the beautiful Lady...      2\n",
       "45611  9 September has arrived, which means Apple's n...      2\n",
       "45612  Leeds 1-1 Sheff Wed. Giuseppe Bellusci securin...      2\n",
       "45613  @user no I'm in hilton head till the 8th lol g...      1\n",
       "45614  WASHINGTON (Reuters) - U.S. Vice President Joe...      1"
      ]
     },
     "execution_count": 15,
     "metadata": {},
     "output_type": "execute_result"
    }
   ],
   "source": [
    "train.tail()"
   ]
  },
  {
   "cell_type": "code",
   "execution_count": 16,
   "metadata": {},
   "outputs": [
    {
     "data": {
      "text/plain": [
       "text      string\n",
       "labels     int32\n",
       "dtype: object"
      ]
     },
     "execution_count": 16,
     "metadata": {},
     "output_type": "execute_result"
    }
   ],
   "source": [
    "train['labels'] = train['labels'].astype(int)\n",
    "train.dtypes"
   ]
  },
  {
   "cell_type": "code",
   "execution_count": 17,
   "metadata": {},
   "outputs": [
    {
     "data": {
      "text/plain": [
       "array([2, 1, 0])"
      ]
     },
     "execution_count": 17,
     "metadata": {},
     "output_type": "execute_result"
    }
   ],
   "source": [
    "train['labels'].unique()"
   ]
  },
  {
   "cell_type": "markdown",
   "metadata": {},
   "source": [
    "#### Loading Label Mapping Data Now\n",
    "Now that we are ready with the train data, let's find out what are these label integers"
   ]
  },
  {
   "cell_type": "code",
   "execution_count": 18,
   "metadata": {},
   "outputs": [],
   "source": [
    "mapping = pd.read_csv(open(f'{dataset_path}/mapping.txt', 'r', encoding='utf-8'), index_col = 0, header = None, delimiter = '\\t')\n",
    "mapping.columns = ['labels']"
   ]
  },
  {
   "cell_type": "code",
   "execution_count": 19,
   "metadata": {},
   "outputs": [
    {
     "data": {
      "text/plain": [
       "labels    object\n",
       "dtype: object"
      ]
     },
     "execution_count": 19,
     "metadata": {},
     "output_type": "execute_result"
    }
   ],
   "source": [
    "mapping.dtypes"
   ]
  },
  {
   "cell_type": "code",
   "execution_count": 20,
   "metadata": {},
   "outputs": [
    {
     "data": {
      "text/plain": [
       "{0: 'negative', 1: 'neutral', 2: 'positive'}"
      ]
     },
     "execution_count": 20,
     "metadata": {},
     "output_type": "execute_result"
    }
   ],
   "source": [
    "mapping['labels'].to_dict()"
   ]
  },
  {
   "cell_type": "code",
   "execution_count": 21,
   "metadata": {},
   "outputs": [],
   "source": [
    "train['label_text'] = train['labels'].map(mapping['labels'].to_dict())\n",
    "labelcounts = (train['label_text'].value_counts()/len(train['labels']))*100"
   ]
  },
  {
   "cell_type": "code",
   "execution_count": 22,
   "metadata": {},
   "outputs": [
    {
     "data": {
      "text/html": [
       "<div>\n",
       "<style scoped>\n",
       "    .dataframe tbody tr th:only-of-type {\n",
       "        vertical-align: middle;\n",
       "    }\n",
       "\n",
       "    .dataframe tbody tr th {\n",
       "        vertical-align: top;\n",
       "    }\n",
       "\n",
       "    .dataframe thead th {\n",
       "        text-align: right;\n",
       "    }\n",
       "</style>\n",
       "<table border=\"1\" class=\"dataframe\">\n",
       "  <thead>\n",
       "    <tr style=\"text-align: right;\">\n",
       "      <th></th>\n",
       "      <th>text</th>\n",
       "      <th>labels</th>\n",
       "      <th>label_text</th>\n",
       "    </tr>\n",
       "  </thead>\n",
       "  <tbody>\n",
       "    <tr>\n",
       "      <th>0</th>\n",
       "      <td>\"QT @user In the original draft of the 7th boo...</td>\n",
       "      <td>2</td>\n",
       "      <td>positive</td>\n",
       "    </tr>\n",
       "    <tr>\n",
       "      <th>1</th>\n",
       "      <td>\"Ben Smith / Smith (concussion) remains out of...</td>\n",
       "      <td>1</td>\n",
       "      <td>neutral</td>\n",
       "    </tr>\n",
       "    <tr>\n",
       "      <th>2</th>\n",
       "      <td>Sorry bout the stream last night I crashed out...</td>\n",
       "      <td>1</td>\n",
       "      <td>neutral</td>\n",
       "    </tr>\n",
       "    <tr>\n",
       "      <th>3</th>\n",
       "      <td>Chase Headley's RBI double in the 8th inning o...</td>\n",
       "      <td>1</td>\n",
       "      <td>neutral</td>\n",
       "    </tr>\n",
       "    <tr>\n",
       "      <th>4</th>\n",
       "      <td>@user Alciato: Bee will invest 150 million in ...</td>\n",
       "      <td>2</td>\n",
       "      <td>positive</td>\n",
       "    </tr>\n",
       "  </tbody>\n",
       "</table>\n",
       "</div>"
      ],
      "text/plain": [
       "                                                text  labels label_text\n",
       "0  \"QT @user In the original draft of the 7th boo...       2   positive\n",
       "1  \"Ben Smith / Smith (concussion) remains out of...       1    neutral\n",
       "2  Sorry bout the stream last night I crashed out...       1    neutral\n",
       "3  Chase Headley's RBI double in the 8th inning o...       1    neutral\n",
       "4  @user Alciato: Bee will invest 150 million in ...       2   positive"
      ]
     },
     "execution_count": 22,
     "metadata": {},
     "output_type": "execute_result"
    }
   ],
   "source": [
    "train.head()"
   ]
  },
  {
   "cell_type": "code",
   "execution_count": 23,
   "metadata": {},
   "outputs": [],
   "source": [
    "labelcounts = (train['label_text'].value_counts()/len(train['labels']))*100"
   ]
  },
  {
   "cell_type": "code",
   "execution_count": 24,
   "metadata": {},
   "outputs": [
    {
     "data": {
      "text/plain": [
       "Text(0.5, 1.0, 'Labels Distribution')"
      ]
     },
     "execution_count": 24,
     "metadata": {},
     "output_type": "execute_result"
    },
    {
     "data": {
      "image/png": "[encoded data removed]",
      "text/plain": [
       "<Figure size 432x288 with 1 Axes>"
      ]
     },
     "metadata": {},
     "output_type": "display_data"
    }
   ],
   "source": [
    "sns.set_style('darkgrid')\n",
    "labelperc = sns.barplot(labelcounts.index, labelcounts.values, palette = 'hls')\n",
    "labelperc.set_title(\"Labels Distribution\")"
   ]
  },
  {
   "cell_type": "markdown",
   "metadata": {},
   "source": [
    "Label Density Histogram"
   ]
  },
  {
   "cell_type": "code",
   "execution_count": 25,
   "metadata": {},
   "outputs": [
    {
     "data": {
      "image/png": "[encoded data removed]",
      "text/plain": [
       "<Figure size 432x288 with 1 Axes>"
      ]
     },
     "metadata": {},
     "output_type": "display_data"
    }
   ],
   "source": [
    "plt.hist(train['labels'], density=True)\n",
    "plt.show()"
   ]
  },
  {
   "cell_type": "markdown",
   "metadata": {},
   "source": [
    "## Text Processing & Cleaning"
   ]
  },
  {
   "cell_type": "markdown",
   "metadata": {},
   "source": [
    "#### Each step here is for exploration purpose at the moment on Sentiment Analysis task only and does not necessarily apply to the other two tasks (Hate Speech Detection and Emotion Recognition)"
   ]
  },
  {
   "cell_type": "code",
   "execution_count": 70,
   "metadata": {},
   "outputs": [
    {
     "data": {
      "text/plain": [
       "60"
      ]
     },
     "execution_count": 70,
     "metadata": {},
     "output_type": "execute_result"
    }
   ],
   "source": [
    "# Using a subset of train data for experimental purpose and reviewing\n",
    "train_subset = train['text'].to_list()[:60]\n",
    "len(train_subset)"
   ]
  },
  {
   "cell_type": "code",
   "execution_count": 27,
   "metadata": {},
   "outputs": [
    {
     "data": {
      "text/plain": [
       "['\"QT @user In the original draft of the 7th book, Remus Lupin survived the Battle of Hogwarts. #HappyBirthdayRemusLupin\" ',\n",
       " '\"Ben Smith / Smith (concussion) remains out of the lineup Thursday, Curtis #NHL #SJ\" ',\n",
       " 'Sorry bout the stream last night I crashed out but will be on tonight for sure. Then back to Minecraft in pc tomorrow night. ',\n",
       " \"Chase Headley's RBI double in the 8th inning off David Price snapped a Yankees streak of 33 consecutive scoreless innings against Blue Jays \",\n",
       " '@user Alciato: Bee will invest 150 million in January, another 200 in the Summer and plans to bring Messi by 2017\" ',\n",
       " \"@user LIT MY MUM 'Kerry the louboutins I wonder how many Willam owns!!! Look Kerry Warner Wednesday!' \",\n",
       " '\"\\\\\"\"\"\" SOUL TRAIN\\\\\"\"\"\" OCT 27 HALLOWEEN SPECIAL ft T.dot FINEST rocking the mic...CRAZY CACTUS NIGHT CLUB ..ADV ticket $10 wt out costume $15...\" ',\n",
       " 'So disappointed in wwe summerslam! I want to see john cena wins his 16th title ',\n",
       " '\"This is the last Sunday w/o football .....,NFL is back baby\" ',\n",
       " \"@user @user CENA & AJ sitting in a tree K-I-S-S-I-N-G 1st goes AJ's  job then John's cred then goes Vicki with the GM position. \",\n",
       " '@user Well said on HMW. Can you now address why Texans fans file out of the stadium midway through the 4th qtr of every game? ',\n",
       " \"Just said hello to Dennis Kucinich as he walked casually through campus with his #hotwife. He's on 22nd st! \",\n",
       " 'Super excited for homecoming Saturday with Monroe! :D my new nephew is here but I can\\\\u2019t see him :( ',\n",
       " 'That sucks if you have to take the SATs tomorrow ',\n",
       " '@user  6 tickets for Sam smith concert  Sept 30 cheap! Flew our family of 6 here fir the concert! BEYOND UPSET! ',\n",
       " '\"Fiorentina have reportedly opened talks with Chelsea over taking the 20yr old Kurt Zuoma on loan in January.\" ',\n",
       " 'Creighton Volleyball leads 8-5 early in 2nd set. Match becomes even bigger with both Wichita St. & Missouri State down 0-1 at home tonight. ',\n",
       " \"This time tomorrow...we'll have the Iron on. Iron Maiden pieces Drops tomorrow nights. \",\n",
       " \"Amy Schumer sat down with The Hollywood Reporter and opened up about the sexist remarks and unnecessary criticism she's faced since \",\n",
       " \"What is Jamie Foxx doing sitting next to Niall like you could've sat in a better spot just saying lol  \",\n",
       " '@user @user 1st uneasyness was when he got v defensive about the Charlie Hebdo stuff, even tho he had pals patiently explaining\" ',\n",
       " 'Reminder: Samsung Unveils the Galaxy Note 5 and S6 Edge+ Tomorrow Morning! - - #tech #news... ',\n",
       " '\"Gonna do a movie marathon with my friend today and tomorrow. Twilight, New Moon, Eclipse, BD1, The Runaways, Adventureland, (c)\" ',\n",
       " 'Oscars Well makes his debut over fences at Punchestown tomorrow. It looks as though he\\\\u2019ll have Plan A and Darwins Fox to overcome. ',\n",
       " 'Q2 10:30. Philip Rivers pass to Eddie Royal to the San Diego 19 for 7 yards. 3rd & 1. ',\n",
       " '@user Work colleague of mine on Thursday night: \"\"oh, look, they\\'re showing the Bee Gees on video.\"\" 23-yr old colleague: \"\"who?\"\"\" ',\n",
       " \"Who's going to get them Gucci foams tomorrow \",\n",
       " 'Yes glass of red\\\\u002c Rammstein and day off tomorrow (thank you @user just what I needed. ',\n",
       " 'Vampettes we are back on the 21st place keep tweeting with the hashtag #MTVStars The Vamps #MTVStarsOf2015 ',\n",
       " 'Ryan Braun returned to the lineup on Wednesday after missing two games with lower back tightness. ']"
      ]
     },
     "execution_count": 27,
     "metadata": {},
     "output_type": "execute_result"
    }
   ],
   "source": [
    "train_subset[:30]"
   ]
  },
  {
   "cell_type": "code",
   "execution_count": 28,
   "metadata": {},
   "outputs": [
    {
     "name": "stdout",
     "output_type": "stream",
     "text": [
      "can\\u2019t\n",
      "he\\u2019ll\n",
      "red\\u002c\n",
      "there\\u002c\n",
      "guys\\u002c\n",
      "Priest\\u2019s\n",
      "We\\u2019re\n",
      "now\\u002c\n",
      "can\\u2019t\n",
      "Don\\u2019t\n",
      "Colbert\\u2019s\n"
     ]
    }
   ],
   "source": [
    "# unicode escape characters found.\n",
    "\n",
    "for text in train_subset:\n",
    "    for t in text.split(\" \"):\n",
    "        if '\\\\u' in t:\n",
    "            print(t)"
   ]
  },
  {
   "cell_type": "code",
   "execution_count": 29,
   "metadata": {},
   "outputs": [],
   "source": [
    "# Using codec registry I've replaced the unicode characters to their respective ascii characters\n",
    "\n",
    "def preprocess(text):\n",
    "    new_text = []\n",
    "    for t in text.split(\" \"):\n",
    "        t = '@user' if t.startswith('@') and len(t) > 1 else t\n",
    "        t = 'http' if t.startswith('http') else t\n",
    "        t =  str.replace(t, '\\\\u2019', \"'\")\n",
    "        t =  str.replace(t, '\\u002c', \",\")\n",
    "        new_text.append(t)\n",
    "    return \" \".join(new_text)"
   ]
  },
  {
   "cell_type": "code",
   "execution_count": 30,
   "metadata": {},
   "outputs": [
    {
     "name": "stdout",
     "output_type": "stream",
     "text": [
      "Raw : Super excited for homecoming Saturday with Monroe! :D my new nephew is here but I can\\u2019t see him :( \n",
      "Cleaned : Super excited for homecoming Saturday with Monroe! :D my new nephew is here but I can't see him :( \n"
     ]
    }
   ],
   "source": [
    "print('Raw :', train_subset[12])\n",
    "print('Cleaned :',preprocess(train_subset[12]))"
   ]
  },
  {
   "cell_type": "markdown",
   "metadata": {},
   "source": [
    "### Stop Words Removal"
   ]
  },
  {
   "cell_type": "code",
   "execution_count": 46,
   "metadata": {},
   "outputs": [],
   "source": [
    "from nltk.corpus import stopwords\n",
    "\n",
    "def stop_words(text_list):\n",
    "    stop = stopwords.words('english')\n",
    "    newlist = list(map(lambda x: ' '.join([word for word in x.split() if word not in (stop)]), text_list))\n",
    "    return newlist"
   ]
  },
  {
   "cell_type": "code",
   "execution_count": 66,
   "metadata": {},
   "outputs": [
    {
     "data": {
      "text/plain": [
       "['\"QT @user In original draft 7th book, Remus Lupin survived Battle Hogwarts. #HappyBirthdayRemusLupin\"',\n",
       " '\"Ben Smith / Smith (concussion) remains lineup Thursday, Curtis #NHL #SJ\"',\n",
       " 'Sorry bout stream last night I crashed tonight sure. Then back Minecraft pc tomorrow night.',\n",
       " \"Chase Headley's RBI double 8th inning David Price snapped Yankees streak 33 consecutive scoreless innings Blue Jays\",\n",
       " '@user Alciato: Bee invest 150 million January, another 200 Summer plans bring Messi 2017\"']"
      ]
     },
     "execution_count": 66,
     "metadata": {},
     "output_type": "execute_result"
    }
   ],
   "source": [
    "#train_subset = stop_words(train_subet)\n",
    "stop_words(train_subset[:5])"
   ]
  },
  {
   "cell_type": "code",
   "execution_count": 48,
   "metadata": {},
   "outputs": [],
   "source": [
    "import string\n",
    "\n",
    "def trans(s):\n",
    "    '''Remove punctuation'''\n",
    "    exclude = set(string.punctuation)\n",
    "    if len(s) > 2:\n",
    "        t = ''.join(ch for ch in s if ch not in exclude and len(s) > 2)\n",
    "    else:\n",
    "        t = s\n",
    "    return t"
   ]
  },
  {
   "cell_type": "markdown",
   "metadata": {},
   "source": [
    "### Removing Punctuations (does not work in our tweets data)"
   ]
  },
  {
   "cell_type": "markdown",
   "metadata": {},
   "source": [
    "Raw Texts"
   ]
  },
  {
   "cell_type": "code",
   "execution_count": 61,
   "metadata": {},
   "outputs": [
    {
     "data": {
      "text/plain": [
       "[\"@user @user CENA & AJ sitting in a tree K-I-S-S-I-N-G 1st goes AJ's  job then John's cred then goes Vicki with the GM position. \",\n",
       " '@user Well said on HMW. Can you now address why Texans fans file out of the stadium midway through the 4th qtr of every game? ',\n",
       " \"Just said hello to Dennis Kucinich as he walked casually through campus with his #hotwife. He's on 22nd st! \",\n",
       " 'Super excited for homecoming Saturday with Monroe! :D my new nephew is here but I can\\\\u2019t see him :( ']"
      ]
     },
     "execution_count": 61,
     "metadata": {},
     "output_type": "execute_result"
    }
   ],
   "source": [
    "train_subset[9:13]"
   ]
  },
  {
   "cell_type": "markdown",
   "metadata": {},
   "source": [
    "After Removing"
   ]
  },
  {
   "cell_type": "code",
   "execution_count": 62,
   "metadata": {},
   "outputs": [
    {
     "data": {
      "text/plain": [
       "['user user CENA  AJ sitting in a tree KISSING 1st goes AJs  job then Johns cred then goes Vicki with the GM position ',\n",
       " 'user Well said on HMW Can you now address why Texans fans file out of the stadium midway through the 4th qtr of every game ',\n",
       " 'Just said hello to Dennis Kucinich as he walked casually through campus with his hotwife Hes on 22nd st ',\n",
       " 'Super excited for homecoming Saturday with Monroe D my new nephew is here but I canu2019t see him  ']"
      ]
     },
     "execution_count": 62,
     "metadata": {},
     "output_type": "execute_result"
    }
   ],
   "source": [
    "list(map(trans, train_subset[9:13]))"
   ]
  },
  {
   "cell_type": "markdown",
   "metadata": {},
   "source": [
    "### Stemming"
   ]
  },
  {
   "cell_type": "code",
   "execution_count": 63,
   "metadata": {},
   "outputs": [],
   "source": [
    "from nltk.stem import PorterStemmer\n",
    "\n",
    "def stemming(text_list):\n",
    "    ps = PorterStemmer()\n",
    "    newlist = list(map(lambda x: ' '.join([ps.stem(word) for word in x.split()]), text_list))\n",
    "    return newlist"
   ]
  },
  {
   "cell_type": "code",
   "execution_count": 64,
   "metadata": {},
   "outputs": [
    {
     "data": {
      "text/plain": [
       "['\"qt @user In the origin draft of the 7th book, remu lupin surviv the battl of hogwarts. #happybirthdayremuslupin\"',\n",
       " '\"ben smith / smith (concussion) remain out of the lineup thursday, curti #nhl #sj\"',\n",
       " 'sorri bout the stream last night I crash out but will be on tonight for sure. then back to minecraft in pc tomorrow night.',\n",
       " \"chase headley' rbi doubl in the 8th inning off david price snap a yanke streak of 33 consecut scoreless inning against blue jay\",\n",
       " '@user alciato: bee will invest 150 million in january, anoth 200 in the summer and plan to bring messi by 2017\"']"
      ]
     },
     "execution_count": 64,
     "metadata": {},
     "output_type": "execute_result"
    }
   ],
   "source": [
    "#train_subset = stemming(train_subet)\n",
    "stemming(train_subset[:5])"
   ]
  },
  {
   "cell_type": "markdown",
   "metadata": {},
   "source": [
    "### Lemmatization"
   ]
  },
  {
   "cell_type": "code",
   "execution_count": 67,
   "metadata": {},
   "outputs": [],
   "source": [
    "from nltk.stem.wordnet import WordNetLemmatizer\n",
    "\n",
    "def lemmatizing(text_list):\n",
    "    lmtzr = WordNetLemmatizer()\n",
    "    newlist = list(map(lambda x: ' '.join([lmtzr.lemmatize(word, 'v') for word in x.split()]), text_list))\n",
    "    return newlist"
   ]
  },
  {
   "cell_type": "code",
   "execution_count": 68,
   "metadata": {},
   "outputs": [
    {
     "data": {
      "text/plain": [
       "['\"QT @user In the original draft of the 7th book, Remus Lupin survive the Battle of Hogwarts. #HappyBirthdayRemusLupin\"',\n",
       " '\"Ben Smith / Smith (concussion) remain out of the lineup Thursday, Curtis #NHL #SJ\"',\n",
       " 'Sorry bout the stream last night I crash out but will be on tonight for sure. Then back to Minecraft in pc tomorrow night.',\n",
       " \"Chase Headley's RBI double in the 8th inning off David Price snap a Yankees streak of 33 consecutive scoreless innings against Blue Jays\",\n",
       " '@user Alciato: Bee will invest 150 million in January, another 200 in the Summer and plan to bring Messi by 2017\"']"
      ]
     },
     "execution_count": 68,
     "metadata": {},
     "output_type": "execute_result"
    }
   ],
   "source": [
    "#train_subset = lemmatizing(train_subset)\n",
    "lemmatizing(train_subset[:5])"
   ]
  },
  {
   "cell_type": "markdown",
   "metadata": {},
   "source": [
    "### Let's use RoBERTa pre-trained Model to do Sentiment Analysis on our test dataset"
   ]
  },
  {
   "cell_type": "markdown",
   "metadata": {},
   "source": [
    "#### We only need to install one dependnecy: the transformers library."
   ]
  },
  {
   "cell_type": "code",
   "execution_count": 1,
   "metadata": {},
   "outputs": [
    {
     "name": "stdout",
     "output_type": "stream",
     "text": [
      "Requirement already satisfied: transformers in c:\\users\\shahrukh\\anaconda3\\lib\\site-packages (4.3.2)\n",
      "Requirement already satisfied: filelock in c:\\users\\shahrukh\\anaconda3\\lib\\site-packages (from transformers) (3.0.12)\n",
      "Requirement already satisfied: requests in c:\\users\\shahrukh\\anaconda3\\lib\\site-packages (from transformers) (2.22.0)\n",
      "Requirement already satisfied: importlib-metadata; python_version < \"3.8\" in c:\\users\\shahrukh\\anaconda3\\lib\\site-packages (from transformers) (1.5.0)\n",
      "Requirement already satisfied: tokenizers<0.11,>=0.10.1 in c:\\users\\shahrukh\\anaconda3\\lib\\site-packages (from transformers) (0.10.1)\n",
      "Requirement already satisfied: regex!=2019.12.17 in c:\\users\\shahrukh\\anaconda3\\lib\\site-packages (from transformers) (2020.11.13)\n",
      "Requirement already satisfied: numpy>=1.17 in c:\\users\\shahrukh\\anaconda3\\lib\\site-packages (from transformers) (1.20.2)\n",
      "Requirement already satisfied: packaging in c:\\users\\shahrukh\\anaconda3\\lib\\site-packages (from transformers) (20.1)\n",
      "Requirement already satisfied: sacremoses in c:\\users\\shahrukh\\anaconda3\\lib\\site-packages (from transformers) (0.0.43)\n",
      "Requirement already satisfied: tqdm>=4.27 in c:\\users\\shahrukh\\anaconda3\\lib\\site-packages (from transformers) (4.42.1)\n",
      "Requirement already satisfied: chardet<3.1.0,>=3.0.2 in c:\\users\\shahrukh\\anaconda3\\lib\\site-packages (from requests->transformers) (3.0.4)\n",
      "Requirement already satisfied: urllib3!=1.25.0,!=1.25.1,<1.26,>=1.21.1 in c:\\users\\shahrukh\\anaconda3\\lib\\site-packages (from requests->transformers) (1.24.3)\n",
      "Requirement already satisfied: certifi>=2017.4.17 in c:\\users\\shahrukh\\anaconda3\\lib\\site-packages (from requests->transformers) (2019.11.28)\n",
      "Requirement already satisfied: idna<2.9,>=2.5 in c:\\users\\shahrukh\\anaconda3\\lib\\site-packages (from requests->transformers) (2.8)\n",
      "Requirement already satisfied: zipp>=0.5 in c:\\users\\shahrukh\\anaconda3\\lib\\site-packages (from importlib-metadata; python_version < \"3.8\"->transformers) (2.2.0)\n",
      "Requirement already satisfied: pyparsing>=2.0.2 in c:\\users\\shahrukh\\anaconda3\\lib\\site-packages (from packaging->transformers) (2.4.6)\n",
      "Requirement already satisfied: six in c:\\users\\shahrukh\\anaconda3\\lib\\site-packages (from packaging->transformers) (1.14.0)\n",
      "Requirement already satisfied: click in c:\\users\\shahrukh\\anaconda3\\lib\\site-packages (from sacremoses->transformers) (7.1.2)\n",
      "Requirement already satisfied: joblib in c:\\users\\shahrukh\\anaconda3\\lib\\site-packages (from sacremoses->transformers) (0.14.1)\n"
     ]
    }
   ],
   "source": [
    "!pip install transformers"
   ]
  },
  {
   "cell_type": "markdown",
   "metadata": {},
   "source": [
    "#### Getting familiar with Transformer based Models to acheive tasks"
   ]
  },
  {
   "cell_type": "code",
   "execution_count": null,
   "metadata": {},
   "outputs": [],
   "source": [
    "from transformers import AutoTokenizer, AutoModel, TFAutoModel\n",
    "import numpy as np\n",
    "from scipy.spatial.distance import cosine\n",
    "from collections import defaultdict\n",
    "\n",
    "MODEL = \"cardiffnlp/twitter-roberta-base\"\n",
    "\n",
    "tokenizer = AutoTokenizer.from_pretrained(MODEL)\n",
    "model = AutoModel.from_pretrained(MODEL)\n",
    "\n",
    "def get_embedding(text):\n",
    "  text = preprocess(text)\n",
    "  encoded_input = tokenizer(text, return_tensors='pt')\n",
    "  features = model(**encoded_input)\n",
    "  features = features[0].detach().cpu().numpy() \n",
    "  features_mean = np.mean(features[0], axis=0) \n",
    "  return features_mean\n",
    "\n",
    "MODEL = \"cardiffnlp/twitter-roberta-base\"\n",
    "\n",
    "query = \"The book was awesome\"\n",
    "\n",
    "tweets = [\"I just ordered fried chicken 🐣\", \n",
    "          \"The movie was great\", \n",
    "          \"What time is the next game?\", \n",
    "          \"Just finished reading 'Embeddings in NLP'\"]\n",
    "\n",
    "d = defaultdict(int)\n",
    "for tweet in tweets:\n",
    "  sim = 1-cosine(get_embedding(query),get_embedding(tweet))\n",
    "  d[tweet] = sim\n",
    "\n",
    "print('Most similar to: ',query)\n",
    "print('----------------------------------------')\n",
    "for idx,x in enumerate(sorted(d.items(), key=lambda x:x[1], reverse=True)):\n",
    "  print(idx+1,x[0])"
   ]
  },
  {
   "cell_type": "code",
   "execution_count": 80,
   "metadata": {},
   "outputs": [],
   "source": [
    "test_subset = data_loader('test_text.txt', False)[:5]"
   ]
  },
  {
   "cell_type": "markdown",
   "metadata": {},
   "source": [
    "Tokenizing with Max_length = 32; Padding to 'longest' isn't a good idea unless you have super powerful machine"
   ]
  },
  {
   "cell_type": "code",
   "execution_count": 82,
   "metadata": {},
   "outputs": [],
   "source": [
    "from transformers import AutoModelForSequenceClassification\n",
    "from transformers import TFAutoModelForSequenceClassification\n",
    "from transformers import AutoTokenizer\n",
    "from scipy.special import softmax\n",
    "import numpy as np\n",
    "\n",
    "MODEL = f\"cardiffnlp/twitter-roberta-base-{task}\"\n",
    "\n",
    "tokenizer = AutoTokenizer.from_pretrained(MODEL)\n",
    "model = AutoModelForSequenceClassification.from_pretrained(MODEL)\n",
    "model.save_pretrained(MODEL)\n",
    "\n",
    "#encoded_input = tokenizer(test_subset, padding='longest', return_tensors='pt')['input_ids']\n",
    "encoded_input = tokenizer(test_subset, max_length=32, padding=True, return_tensors='pt')['input_ids']"
   ]
  },
  {
   "cell_type": "code",
   "execution_count": 83,
   "metadata": {},
   "outputs": [
    {
     "data": {
      "text/plain": [
       "SequenceClassifierOutput(loss=None, logits=tensor([[ 1.3165,  0.6184, -2.0770],\n",
       "        [-0.9789,  1.2316, -0.0624],\n",
       "        [ 1.2620,  0.7443, -2.0546],\n",
       "        [-3.3268,  1.1320,  2.2390],\n",
       "        [ 0.1234,  0.4451, -0.5329]], grad_fn=<AddmmBackward>), hidden_states=None, attentions=None)"
      ]
     },
     "execution_count": 83,
     "metadata": {},
     "output_type": "execute_result"
    }
   ],
   "source": [
    "output = model(encoded_input)\n",
    "\n",
    "output"
   ]
  },
  {
   "cell_type": "markdown",
   "metadata": {},
   "source": [
    "#### Wow! so it was this simple. using pretrained model, we have already got logits (classification scores before softmax). stay tuned..."
   ]
  },
  {
   "cell_type": "code",
   "execution_count": 85,
   "metadata": {},
   "outputs": [
    {
     "data": {
      "text/plain": [
       "tensor([[ 1.3165,  0.6184, -2.0770],\n",
       "        [-0.9789,  1.2316, -0.0624],\n",
       "        [ 1.2620,  0.7443, -2.0546],\n",
       "        [-3.3268,  1.1320,  2.2390],\n",
       "        [ 0.1234,  0.4451, -0.5329]], grad_fn=<AddmmBackward>)"
      ]
     },
     "execution_count": 85,
     "metadata": {},
     "output_type": "execute_result"
    }
   ],
   "source": [
    "output[0]"
   ]
  },
  {
   "cell_type": "code",
   "execution_count": 86,
   "metadata": {},
   "outputs": [
    {
     "data": {
      "text/plain": [
       "array([[ 1.3164916 ,  0.6184199 , -2.076978  ],\n",
       "       [-0.9788736 ,  1.2315959 , -0.06238552],\n",
       "       [ 1.2620112 ,  0.74428296, -2.0546472 ],\n",
       "       [-3.3268366 ,  1.1320405 ,  2.2389865 ],\n",
       "       [ 0.12336496,  0.44510543, -0.53289545]], dtype=float32)"
      ]
     },
     "execution_count": 86,
     "metadata": {},
     "output_type": "execute_result"
    }
   ],
   "source": [
    "scores = output[0].detach().numpy()\n",
    "scores"
   ]
  },
  {
   "cell_type": "markdown",
   "metadata": {},
   "source": [
    "#### Applying softmax"
   ]
  },
  {
   "cell_type": "code",
   "execution_count": 87,
   "metadata": {},
   "outputs": [
    {
     "data": {
      "text/plain": [
       "array([[0.11650047, 0.05796409, 0.00391348],\n",
       "       [0.01173446, 0.10701829, 0.02934195],\n",
       "       [0.11032327, 0.06573863, 0.00400185],\n",
       "       [0.00112139, 0.09687721, 0.2930638 ],\n",
       "       [0.03533128, 0.04874045, 0.01832943]], dtype=float32)"
      ]
     },
     "execution_count": 87,
     "metadata": {},
     "output_type": "execute_result"
    }
   ],
   "source": [
    "scores_soft = softmax(scores)\n",
    "scores_soft"
   ]
  },
  {
   "cell_type": "code",
   "execution_count": 93,
   "metadata": {},
   "outputs": [],
   "source": [
    "predicted_labels = []\n",
    "for scores in scores_soft:\n",
    "    ranking = np.argsort(scores)\n",
    "    ranking = ranking[::-1]\n",
    "    predicted_labels.append(ranking[0])"
   ]
  },
  {
   "cell_type": "code",
   "execution_count": 94,
   "metadata": {},
   "outputs": [
    {
     "data": {
      "text/plain": [
       "[0, 1, 0, 2, 1]"
      ]
     },
     "execution_count": 94,
     "metadata": {},
     "output_type": "execute_result"
    }
   ],
   "source": [
    "predicted_labels"
   ]
  },
  {
   "cell_type": "code",
   "execution_count": 95,
   "metadata": {},
   "outputs": [],
   "source": [
    "test_df = pd.DataFrame({'text': test_subset, 'predicted_labels': predicted_labels})"
   ]
  },
  {
   "cell_type": "code",
   "execution_count": 97,
   "metadata": {},
   "outputs": [],
   "source": [
    "test_df['pred_label_text'] = test_df['predicted_labels'].map(mapping['labels'].to_dict())"
   ]
  },
  {
   "cell_type": "markdown",
   "metadata": {},
   "source": [
    "#### Here we go :) Ignore the text at index 1 :p"
   ]
  },
  {
   "cell_type": "code",
   "execution_count": 99,
   "metadata": {},
   "outputs": [
    {
     "data": {
      "text/html": [
       "<div>\n",
       "<style scoped>\n",
       "    .dataframe tbody tr th:only-of-type {\n",
       "        vertical-align: middle;\n",
       "    }\n",
       "\n",
       "    .dataframe tbody tr th {\n",
       "        vertical-align: top;\n",
       "    }\n",
       "\n",
       "    .dataframe thead th {\n",
       "        text-align: right;\n",
       "    }\n",
       "</style>\n",
       "<table border=\"1\" class=\"dataframe\">\n",
       "  <thead>\n",
       "    <tr style=\"text-align: right;\">\n",
       "      <th></th>\n",
       "      <th>text</th>\n",
       "      <th>predicted_labels</th>\n",
       "      <th>pred_label_text</th>\n",
       "    </tr>\n",
       "  </thead>\n",
       "  <tbody>\n",
       "    <tr>\n",
       "      <th>0</th>\n",
       "      <td>@user @user what do these '1/2 naked pics' hav...</td>\n",
       "      <td>0</td>\n",
       "      <td>negative</td>\n",
       "    </tr>\n",
       "    <tr>\n",
       "      <th>1</th>\n",
       "      <td>OH: “I had a blue penis while I was this” [pla...</td>\n",
       "      <td>1</td>\n",
       "      <td>neutral</td>\n",
       "    </tr>\n",
       "    <tr>\n",
       "      <th>2</th>\n",
       "      <td>@user @user That's coming, but I think the vic...</td>\n",
       "      <td>0</td>\n",
       "      <td>negative</td>\n",
       "    </tr>\n",
       "    <tr>\n",
       "      <th>3</th>\n",
       "      <td>I think I may be finally in with the in crowd ...</td>\n",
       "      <td>2</td>\n",
       "      <td>positive</td>\n",
       "    </tr>\n",
       "    <tr>\n",
       "      <th>4</th>\n",
       "      <td>@user Wow,first Hugo Chavez and now Fidel Cast...</td>\n",
       "      <td>1</td>\n",
       "      <td>neutral</td>\n",
       "    </tr>\n",
       "  </tbody>\n",
       "</table>\n",
       "</div>"
      ],
      "text/plain": [
       "                                                text  predicted_labels  \\\n",
       "0  @user @user what do these '1/2 naked pics' hav...                 0   \n",
       "1  OH: “I had a blue penis while I was this” [pla...                 1   \n",
       "2  @user @user That's coming, but I think the vic...                 0   \n",
       "3  I think I may be finally in with the in crowd ...                 2   \n",
       "4  @user Wow,first Hugo Chavez and now Fidel Cast...                 1   \n",
       "\n",
       "  pred_label_text  \n",
       "0        negative  \n",
       "1         neutral  \n",
       "2        negative  \n",
       "3        positive  \n",
       "4         neutral  "
      ]
     },
     "execution_count": 99,
     "metadata": {},
     "output_type": "execute_result"
    }
   ],
   "source": [
    "test_df[:5]"
   ]
  },
  {
   "cell_type": "markdown",
   "metadata": {},
   "source": [
    "#### Bye for now.. See you later!"
   ]
  }
 ],
 "metadata": {
  "kernelspec": {
   "display_name": "Python 3",
   "language": "python",
   "name": "python3"
  },
  "language_info": {
   "codemirror_mode": {
    "name": "ipython",
    "version": 3
   },
   "file_extension": ".py",
   "mimetype": "text/x-python",
   "name": "python",
   "nbconvert_exporter": "python",
   "pygments_lexer": "ipython3",
   "version": "3.7.6"
  }
 },
 "nbformat": 4,
 "nbformat_minor": 4
}
